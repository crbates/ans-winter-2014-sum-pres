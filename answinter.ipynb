{
 "metadata": {
  "name": "",
  "signature": "sha256:18fb2bf9ab28558d303cbab7b2a6d1d352d39f76d33318d063821e823fa55e86"
 },
 "nbformat": 3,
 "nbformat_minor": 0,
 "worksheets": [
  {
   "cells": [
    {
     "cell_type": "code",
     "collapsed": false,
     "input": [
      "%pylab\n"
     ],
     "language": "python",
     "metadata": {},
     "outputs": [
      {
       "output_type": "stream",
       "stream": "stdout",
       "text": [
        "Using matplotlib backend: MacOSX\n",
        "Populating the interactive namespace from numpy and matplotlib\n"
       ]
      }
     ],
     "prompt_number": 1
    },
    {
     "cell_type": "code",
     "collapsed": false,
     "input": [
      "import matplotlib\n",
      "matplotlib.rcParams['font.size']= 20\n",
      "from pyne import nucname, nuc_data\n",
      "import tables as tb\n",
      "f = tb.openFile(nuc_data)"
     ],
     "language": "python",
     "metadata": {},
     "outputs": [
      {
       "output_type": "stream",
       "stream": "stderr",
       "text": [
        "-c:3: VnVWarning: pyne.nucname is not yet V&V compliant.\n"
       ]
      }
     ],
     "prompt_number": 2
    },
    {
     "cell_type": "code",
     "collapsed": false,
     "input": [
      "anums = map(nucname.anum, f.root.decay.level_list[:]['nuc_id'])\n",
      "ms = f.root.decay.level_list[:]['metastable']\n",
      "level =  f.root.decay.level_list[:]['level']"
     ],
     "language": "python",
     "metadata": {},
     "outputs": [],
     "prompt_number": 3
    },
    {
     "cell_type": "code",
     "collapsed": false,
     "input": [
      "figure(1,figsize=(10,6))\n",
      "subplot(121)\n",
      "semilogy(np.array(anums)[np.logical_or(ms>0,level == 0)], f.root.decay.level_list[:]['half_life'][np.logical_or(ms>0,level == 0)], 'ko',ms=2)\n",
      "xlabel('A')\n",
      "ylabel('Half-life [s]')\n",
      "title('Old')\n",
      "subplot(122)\n",
      "semilogy(np.array(anums), f.root.decay.level_list[:]['half_life'], 'ko',ms=2)\n",
      "xlabel('A')\n",
      "ylabel('Half-life [s]')\n",
      "title('New')\n",
      "subplots_adjust(left=0.14,bottom=0.14,right=0.94,top=0.87,wspace=0.4)\n",
      "savefig('ensdf.pdf')"
     ],
     "language": "python",
     "metadata": {},
     "outputs": [
      {
       "output_type": "stream",
       "stream": "stderr",
       "text": [
        "/opt/local/Library/Frameworks/Python.framework/Versions/2.7/lib/python2.7/site-packages/matplotlib/scale.py:93: RuntimeWarning: invalid value encountered in less_equal\n",
        "  mask = a <= 0.0\n"
       ]
      }
     ],
     "prompt_number": 5
    },
    {
     "cell_type": "code",
     "collapsed": false,
     "input": [
      "nuclist = [922330000,922350000,942390000]\n",
      "clrlst = ['r','b','g']\n",
      "labellist = ['$^{233}$U','$^{235}$U','$^{239}$Pu']\n",
      "plt.hold(False)\n",
      "for nuc, clr, lbl in zip(nuclist,clrlst,labellist):\n",
      "    fn = f.root.neutron.wimsd_fission_products[:]['from_nuc'] == nuc\n",
      "    znums = map(nucname.anum, np.asarray(f.root.neutron.wimsd_fission_products[:]['to_nuc'][fn], np.int))\n",
      "    intensities = (f.root.neutron.wimsd_fission_products[:]['yields'][fn])\n",
      "    zfinal = []\n",
      "    intensityfinal = []\n",
      "    for ind, item in enumerate(znums):\n",
      "        if item in zfinal:\n",
      "            intensityfinal[zfinal.index(item)] += intensities[ind]\n",
      "        else:\n",
      "            zfinal.append(item)\n",
      "            intensityfinal.append(intensities[ind])\n",
      "    scatter(zfinal,np.array(intensityfinal)*100.,c=clr, label = lbl)\n",
      "    fill_between(zfinal,0,np.array(intensityfinal)*100.,color=clr,alpha=0.2)\n",
      "    plt.hold(True)\n",
      "legend(loc=2)\n",
      "subplots_adjust(left=0.13,bottom=0.14,right=0.94,top=0.94,wspace=0.4)\n",
      "xlim(83,167)\n",
      "ylim(0,13)\n",
      "xlabel('A')\n",
      "ylabel('Yield (%)')\n",
      "savefig('yield.pdf')"
     ],
     "language": "python",
     "metadata": {},
     "outputs": [],
     "prompt_number": 77
    },
    {
     "cell_type": "code",
     "collapsed": false,
     "input": [
      "plot(f.root.neutron.wimsd_fission_products[:]['from_nuc'])"
     ],
     "language": "python",
     "metadata": {},
     "outputs": [
      {
       "metadata": {},
       "output_type": "pyout",
       "prompt_number": 46,
       "text": [
        "[<matplotlib.lines.Line2D at 0x1129f41d0>]"
       ]
      }
     ],
     "prompt_number": 46
    },
    {
     "cell_type": "code",
     "collapsed": false,
     "input": [],
     "language": "python",
     "metadata": {},
     "outputs": []
    }
   ],
   "metadata": {}
  }
 ]
}