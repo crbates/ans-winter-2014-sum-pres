{
 "metadata": {
  "name": "",
  "signature": "sha256:a8d7376a7d0bd17c501d479447fff693b552a95faf6b721c5fbec904cacd4b14"
 },
 "nbformat": 3,
 "nbformat_minor": 0,
 "worksheets": [
  {
   "cells": [
    {
     "cell_type": "code",
     "collapsed": false,
     "input": [
      "%pylab\n"
     ],
     "language": "python",
     "metadata": {},
     "outputs": [
      {
       "output_type": "stream",
       "stream": "stdout",
       "text": [
        "Using matplotlib backend: MacOSX\n",
        "Populating the interactive namespace from numpy and matplotlib\n"
       ]
      }
     ],
     "prompt_number": 1
    },
    {
     "cell_type": "code",
     "collapsed": false,
     "input": [
      "import matplotlib\n",
      "matplotlib.rcParams['font.size']= 20\n",
      "from pyne import nucname, nuc_data\n",
      "import tables as tb\n",
      "f = tb.openFile(nuc_data)"
     ],
     "language": "python",
     "metadata": {},
     "outputs": [],
     "prompt_number": 2
    },
    {
     "cell_type": "code",
     "collapsed": false,
     "input": [
      "anums = map(nucname.anum, f.root.decay.level_list[:]['nuc_id'])\n",
      "ms = f.root.decay.level_list[:]['metastable']\n",
      "level =  f.root.decay.level_list[:]['level']"
     ],
     "language": "python",
     "metadata": {},
     "outputs": [],
     "prompt_number": 3
    },
    {
     "cell_type": "code",
     "collapsed": false,
     "input": [
      "figure(1,figsize=(10,6))\n",
      "subplot(121)\n",
      "semilogy(np.array(anums)[np.logical_or(ms>0,level == 0)], f.root.decay.level_list[:]['half_life'][np.logical_or(ms>0,level == 0)], 'ko',ms=2)\n",
      "xlabel('A')\n",
      "ylabel('Half-life [s]')\n",
      "title('Old')\n",
      "subplot(122)\n",
      "semilogy(np.array(anums), f.root.decay.level_list[:]['half_life'], 'ko',ms=2)\n",
      "xlabel('A')\n",
      "ylabel('Half-life [s]')\n",
      "title('New')\n",
      "subplots_adjust(left=0.14,bottom=0.14,right=0.94,top=0.87,wspace=0.4)\n",
      "savefig('ensdf.pdf')"
     ],
     "language": "python",
     "metadata": {},
     "outputs": [
      {
       "output_type": "stream",
       "stream": "stderr",
       "text": [
        "/opt/local/Library/Frameworks/Python.framework/Versions/2.7/lib/python2.7/site-packages/matplotlib/scale.py:93: RuntimeWarning: invalid value encountered in less_equal\n",
        "  mask = a <= 0.0\n"
       ]
      }
     ],
     "prompt_number": 5
    },
    {
     "cell_type": "code",
     "collapsed": false,
     "input": [
      "nuclist = [922330000,922350000,942390000]\n",
      "clrlst = ['r','b','g']\n",
      "labellist = ['$^{233}$U','$^{235}$U','$^{239}$Pu']\n",
      "plt.hold(False)\n",
      "#start = 4 #nds\n",
      "start = 0\n",
      "for nuc, clr, lbl in zip(nuclist,clrlst,labellist):\n",
      "    fn = f.root.neutron.wimsd_fission_products[:]['from_nuc'] == nuc\n",
      "    znums = map(nucname.anum, np.asarray(f.root.neutron.wimsd_fission_products[:]['to_nuc'][fn], np.int))\n",
      "    intensities = (f.root.neutron.wimsd_fission_products[:]['yields'][fn])\n",
      "    zfinal = []\n",
      "    intensityfinal = []\n",
      "    for ind, item in enumerate(znums):\n",
      "        if item in zfinal:\n",
      "            intensityfinal[zfinal.index(item)] += intensities[ind]\n",
      "        else:\n",
      "            zfinal.append(item)\n",
      "            intensityfinal.append(intensities[ind])\n",
      "    data = np.array(sorted(zip(zfinal,intensityfinal), key=lambda student: student[0]))\n",
      "    sl = data[start:,1]>0.001\n",
      "    scatter(data[start:,0][sl],data[start:,1][sl]*100,c=clr, label = lbl)\n",
      "    fill_between(data[start:,0][sl],0,data[start:,1][sl]*100,color=clr,alpha=0.2)\n",
      "    plt.hold(True)\n",
      "legend(loc=2)\n",
      "subplots_adjust(left=0.13,bottom=0.14,right=0.94,top=0.94,wspace=0.4)\n",
      "xlim(83,156)\n",
      "ylim(0,13)\n",
      "xlabel('A')\n",
      "ylabel('Yield (%)')\n",
      "savefig('yieldwimsd.pdf')"
     ],
     "language": "python",
     "metadata": {},
     "outputs": [],
     "prompt_number": 38
    },
    {
     "cell_type": "code",
     "collapsed": false,
     "input": [
      "plot(f.root.neutron.wimsd_fission_products[:]['from_nuc'])"
     ],
     "language": "python",
     "metadata": {},
     "outputs": [
      {
       "metadata": {},
       "output_type": "pyout",
       "prompt_number": 46,
       "text": [
        "[<matplotlib.lines.Line2D at 0x1129f41d0>]"
       ]
      }
     ],
     "prompt_number": 46
    },
    {
     "cell_type": "code",
     "collapsed": false,
     "input": [
      "f.root.neutron.nds_fission_products"
     ],
     "language": "python",
     "metadata": {},
     "outputs": [
      {
       "metadata": {},
       "output_type": "pyout",
       "prompt_number": 4,
       "text": [
        "/neutron/nds_fission_products (Table(366,), shuffle, zlib(5)) 'WIMSD Fission Product Yields, percent [unitless]'\n",
        "  description := {\n",
        "  \"from_nuc\": Int32Col(shape=(), dflt=0, pos=0),\n",
        "  \"to_nuc\": Int32Col(shape=(), dflt=0, pos=1),\n",
        "  \"yield_thermal\": Float64Col(shape=(), dflt=0.0, pos=2),\n",
        "  \"yield_thermal_err\": Float64Col(shape=(), dflt=0.0, pos=3),\n",
        "  \"yield_fast\": Float64Col(shape=(), dflt=0.0, pos=4),\n",
        "  \"yield_fast_err\": Float64Col(shape=(), dflt=0.0, pos=5),\n",
        "  \"yield_14MeV\": Float64Col(shape=(), dflt=0.0, pos=6),\n",
        "  \"yield_14MeV_err\": Float64Col(shape=(), dflt=0.0, pos=7)}\n",
        "  byteorder := 'little'\n",
        "  chunkshape := (1170,)"
       ]
      }
     ],
     "prompt_number": 4
    },
    {
     "cell_type": "code",
     "collapsed": false,
     "input": [
      "np.array(data)"
     ],
     "language": "python",
     "metadata": {},
     "outputs": [
      {
       "metadata": {},
       "output_type": "pyout",
       "prompt_number": 33,
       "text": [
        "array([[  8.30000000e+01,   2.97130000e-03],\n",
        "       [  9.50000000e+01,   4.84520000e-02],\n",
        "       [  9.90000000e+01,   6.23290000e-02],\n",
        "       [  1.01000000e+02,   6.03550000e-02],\n",
        "       [  1.03000000e+02,   6.99050000e-02],\n",
        "       [  1.05000000e+02,   5.64750000e-02],\n",
        "       [  1.06000000e+02,   4.35040000e-02],\n",
        "       [  1.07000000e+02,   3.32720000e-02],\n",
        "       [  1.08000000e+02,   2.15950000e-02],\n",
        "       [  1.09000000e+02,   1.46690000e-02],\n",
        "       [  1.13000000e+02,   8.14670000e-04],\n",
        "       [  1.15000000e+02,   4.14880000e-04],\n",
        "       [  1.25000000e+02,   1.13320000e-03],\n",
        "       [  1.27000000e+02,   5.06280000e-03],\n",
        "       [  1.31000000e+02,   3.85680000e-02],\n",
        "       [  1.33000000e+02,   7.01450000e-02],\n",
        "       [  1.34000000e+02,   7.65836982e-02],\n",
        "       [  1.35000000e+02,   7.62433200e-02],\n",
        "       [  1.36000000e+02,   6.87810000e-02],\n",
        "       [  1.37000000e+02,   6.70920000e-02],\n",
        "       [  1.43000000e+02,   4.41790000e-02],\n",
        "       [  1.45000000e+02,   2.99020000e-02],\n",
        "       [  1.47000000e+02,   2.00262000e-02],\n",
        "       [  1.48000000e+02,   6.00070000e-08],\n",
        "       [  1.49000000e+02,   1.21750000e-02],\n",
        "       [  1.50000000e+02,   1.17960000e-05],\n",
        "       [  1.51000000e+02,   7.39590000e-03],\n",
        "       [  1.52000000e+02,   5.77580092e-03],\n",
        "       [  1.53000000e+02,   3.62880000e-03],\n",
        "       [  1.54000000e+02,   2.84915354e-07],\n",
        "       [  1.55000000e+02,   1.66810163e-03],\n",
        "       [  1.56000000e+02,   1.24790000e-03],\n",
        "       [  1.57000000e+02,   7.49550000e-04],\n",
        "       [  1.58000000e+02,   4.20470000e-04],\n",
        "       [  1.60000000e+02,   6.58230000e-08],\n",
        "       [  1.61000000e+02,   4.93670000e-05],\n",
        "       [  1.62000000e+02,   2.29620000e-05],\n",
        "       [  1.63000000e+02,   9.72780000e-06],\n",
        "       [  1.64000000e+02,   3.66400000e-06],\n",
        "       [  1.65000000e+02,   1.53510000e-06],\n",
        "       [  1.66000000e+02,   1.93530000e-07],\n",
        "       [  1.67000000e+02,   2.44870000e-11]])"
       ]
      }
     ],
     "prompt_number": 33
    },
    {
     "cell_type": "code",
     "collapsed": false,
     "input": [],
     "language": "python",
     "metadata": {},
     "outputs": []
    }
   ],
   "metadata": {}
  }
 ]
}